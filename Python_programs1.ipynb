{
  "nbformat": 4,
  "nbformat_minor": 0,
  "metadata": {
    "colab": {
      "name": "Python_programs1.ipynb",
      "provenance": [],
      "authorship_tag": "ABX9TyMKWHxD8+NcwxO+24r6vEo8",
      "include_colab_link": true
    },
    "kernelspec": {
      "name": "python3",
      "display_name": "Python 3"
    }
  },
  "cells": [
    {
      "cell_type": "markdown",
      "metadata": {
        "id": "view-in-github",
        "colab_type": "text"
      },
      "source": [
        "<a href=\"https://colab.research.google.com/github/jayanaik9090/ML_programs/blob/master/Python_programs1.ipynb\" target=\"_parent\"><img src=\"https://colab.research.google.com/assets/colab-badge.svg\" alt=\"Open In Colab\"/></a>"
      ]
    },
    {
      "cell_type": "markdown",
      "metadata": {
        "id": "hVF-D7et5aSQ",
        "colab_type": "text"
      },
      "source": [
        "# Write a Python program which accepts the user's first and last name and print them in reverse order with a space between them"
      ]
    },
    {
      "cell_type": "code",
      "metadata": {
        "id": "Da8tygiA5kH6",
        "colab_type": "code",
        "colab": {
          "base_uri": "https://localhost:8080/",
          "height": 67
        },
        "outputId": "fbc59393-508d-4364-dd46-d8a188b7b820"
      },
      "source": [
        "first=input(\"Enter your first name : \")\n",
        "last=input(\"Enter your last name : \")\n",
        "print(last +\" \"+ first)"
      ],
      "execution_count": 3,
      "outputs": [
        {
          "output_type": "stream",
          "text": [
            "Enter your first name : jaya\n",
            "Enter your last name : M\n",
            "M jaya\n"
          ],
          "name": "stdout"
        }
      ]
    },
    {
      "cell_type": "markdown",
      "metadata": {
        "id": "WT9vyeVg6BYY",
        "colab_type": "text"
      },
      "source": [
        "# 2. Write a Python program to calculate number of days between two dates."
      ]
    },
    {
      "cell_type": "code",
      "metadata": {
        "id": "-JdofWBj5zuZ",
        "colab_type": "code",
        "colab": {
          "base_uri": "https://localhost:8080/",
          "height": 34
        },
        "outputId": "f5457e39-7703-4cf4-9aed-0cecb98d917c"
      },
      "source": [
        "from datetime import date\n",
        "date1 = date(2014, 7, 2)\n",
        "date2 = date(2014, 7, 11)\n",
        "d = date2 - date1\n",
        "print(d.days)"
      ],
      "execution_count": 4,
      "outputs": [
        {
          "output_type": "stream",
          "text": [
            "9\n"
          ],
          "name": "stdout"
        }
      ]
    },
    {
      "cell_type": "markdown",
      "metadata": {
        "id": "O5uxew9666W7",
        "colab_type": "text"
      },
      "source": [
        "# Write a Python program to test whether a passed letter is a vowel or not"
      ]
    },
    {
      "cell_type": "code",
      "metadata": {
        "id": "JBB-FDOk6i9s",
        "colab_type": "code",
        "colab": {
          "base_uri": "https://localhost:8080/",
          "height": 84
        },
        "outputId": "b4f49f4a-3931-4647-d8dd-507d582062f0"
      },
      "source": [
        "def is_vowel(char):\n",
        "    all_vowels = 'aeiou'\n",
        "    return char in all_vowels\n",
        "char1=input(\"Enter char \")\n",
        "char2=input(\"Enter char2 \")    \n",
        "print(is_vowel(char1))\n",
        "print(is_vowel(char2))"
      ],
      "execution_count": 5,
      "outputs": [
        {
          "output_type": "stream",
          "text": [
            "Enter charc\n",
            "Enter char2e\n",
            "False\n",
            "True\n"
          ],
          "name": "stdout"
        }
      ]
    },
    {
      "cell_type": "markdown",
      "metadata": {
        "id": "igG6uhrj7fjv",
        "colab_type": "text"
      },
      "source": [
        "# Write a Python program to sum of three given integers. However, if two values are equal sum will be zero."
      ]
    },
    {
      "cell_type": "code",
      "metadata": {
        "id": "Gzuzevs97Zom",
        "colab_type": "code",
        "colab": {
          "base_uri": "https://localhost:8080/",
          "height": 84
        },
        "outputId": "feb09a6b-53f4-48f5-a09d-e1c1e716d45a"
      },
      "source": [
        "def sum(x, y, z):\n",
        "    if x == y or y == z or x==z:\n",
        "        sum = 0\n",
        "    else:\n",
        "        sum = x + y + z\n",
        "    return sum\n",
        "x=int(input(\"Enter X value \"))\n",
        "y=int(input(\"Enter Y value \"))\n",
        "z=int(input(\"Enter Z value \"))\n",
        "print(sum(x,y,z))\n"
      ],
      "execution_count": 7,
      "outputs": [
        {
          "output_type": "stream",
          "text": [
            "Enter X value 3\n",
            "Enter Y value 4\n",
            "Enter Z value 5\n",
            "12\n"
          ],
          "name": "stdout"
        }
      ]
    },
    {
      "cell_type": "markdown",
      "metadata": {
        "id": "l8r98ESQ7xrK",
        "colab_type": "text"
      },
      "source": [
        "# Write a Python program to count the number of characters (character frequency) in a string."
      ]
    },
    {
      "cell_type": "code",
      "metadata": {
        "id": "abWQc6t4-Df4",
        "colab_type": "code",
        "colab": {
          "base_uri": "https://localhost:8080/",
          "height": 185
        },
        "outputId": "bfefe9ba-dc61-4492-b37b-4410aed89d90"
      },
      "source": [
        "string = input(\"Enter a string: \")\n",
        "lst1 = []\n",
        "for char in string:\n",
        "    if char not in lst1:\n",
        "        lst1.append(char)\n",
        "for item in lst1:\n",
        "    print(item,string.count(item), sep = \": \")"
      ],
      "execution_count": 10,
      "outputs": [
        {
          "output_type": "stream",
          "text": [
            "Enter a string: jayalakshmi\n",
            "j: 1\n",
            "a: 3\n",
            "y: 1\n",
            "l: 1\n",
            "k: 1\n",
            "s: 1\n",
            "h: 1\n",
            "m: 1\n",
            "i: 1\n"
          ],
          "name": "stdout"
        }
      ]
    },
    {
      "cell_type": "code",
      "metadata": {
        "id": "kkRztzQI-iBj",
        "colab_type": "code",
        "colab": {}
      },
      "source": [
        ""
      ],
      "execution_count": null,
      "outputs": []
    }
  ]
}