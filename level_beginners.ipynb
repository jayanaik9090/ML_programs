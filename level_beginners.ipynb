{
  "nbformat": 4,
  "nbformat_minor": 0,
  "metadata": {
    "kernelspec": {
      "display_name": "Python 3",
      "language": "python",
      "name": "python3"
    },
    "language_info": {
      "codemirror_mode": {
        "name": "ipython",
        "version": 3
      },
      "file_extension": ".py",
      "mimetype": "text/x-python",
      "name": "python",
      "nbconvert_exporter": "python",
      "pygments_lexer": "ipython3",
      "version": "3.6.10"
    },
    "colab": {
      "name": "level-beginners.ipynb",
      "provenance": [],
      "toc_visible": true,
      "include_colab_link": true
    },
    "accelerator": "GPU",
    "widgets": {
      "application/vnd.jupyter.widget-state+json": {
        "c4ff6bb006de4645a4c5d12a8b8ee862": {
          "model_module": "@jupyter-widgets/controls",
          "model_name": "HBoxModel",
          "state": {
            "_view_name": "HBoxView",
            "_dom_classes": [],
            "_model_name": "HBoxModel",
            "_view_module": "@jupyter-widgets/controls",
            "_model_module_version": "1.5.0",
            "_view_count": null,
            "_view_module_version": "1.5.0",
            "box_style": "",
            "layout": "IPY_MODEL_16aa39e8ca8240789c840df6f8d89941",
            "_model_module": "@jupyter-widgets/controls",
            "children": [
              "IPY_MODEL_d6128192e2e74b78a51f5f6ec7ffa0cd",
              "IPY_MODEL_3cf92a27ca2c44a3895908d2b9a19476"
            ]
          }
        },
        "16aa39e8ca8240789c840df6f8d89941": {
          "model_module": "@jupyter-widgets/base",
          "model_name": "LayoutModel",
          "state": {
            "_view_name": "LayoutView",
            "grid_template_rows": null,
            "right": null,
            "justify_content": null,
            "_view_module": "@jupyter-widgets/base",
            "overflow": null,
            "_model_module_version": "1.2.0",
            "_view_count": null,
            "flex_flow": null,
            "width": null,
            "min_width": null,
            "border": null,
            "align_items": null,
            "bottom": null,
            "_model_module": "@jupyter-widgets/base",
            "top": null,
            "grid_column": null,
            "overflow_y": null,
            "overflow_x": null,
            "grid_auto_flow": null,
            "grid_area": null,
            "grid_template_columns": null,
            "flex": null,
            "_model_name": "LayoutModel",
            "justify_items": null,
            "grid_row": null,
            "max_height": null,
            "align_content": null,
            "visibility": null,
            "align_self": null,
            "height": null,
            "min_height": null,
            "padding": null,
            "grid_auto_rows": null,
            "grid_gap": null,
            "max_width": null,
            "order": null,
            "_view_module_version": "1.2.0",
            "grid_template_areas": null,
            "object_position": null,
            "object_fit": null,
            "grid_auto_columns": null,
            "margin": null,
            "display": null,
            "left": null
          }
        },
        "d6128192e2e74b78a51f5f6ec7ffa0cd": {
          "model_module": "@jupyter-widgets/controls",
          "model_name": "FloatProgressModel",
          "state": {
            "_view_name": "ProgressView",
            "style": "IPY_MODEL_190eb4542f8d4d1d8135d04dcf0d057c",
            "_dom_classes": [],
            "description": "",
            "_model_name": "FloatProgressModel",
            "bar_style": "info",
            "max": 1,
            "_view_module": "@jupyter-widgets/controls",
            "_model_module_version": "1.5.0",
            "value": 1,
            "_view_count": null,
            "_view_module_version": "1.5.0",
            "orientation": "horizontal",
            "min": 0,
            "description_tooltip": null,
            "_model_module": "@jupyter-widgets/controls",
            "layout": "IPY_MODEL_9a76ee8e0ba34f9995cb711a4a3ab9ef"
          }
        },
        "3cf92a27ca2c44a3895908d2b9a19476": {
          "model_module": "@jupyter-widgets/controls",
          "model_name": "HTMLModel",
          "state": {
            "_view_name": "HTMLView",
            "style": "IPY_MODEL_f43878a99e2f474dbb6785e816c8e658",
            "_dom_classes": [],
            "description": "",
            "_model_name": "HTMLModel",
            "placeholder": "​",
            "_view_module": "@jupyter-widgets/controls",
            "_model_module_version": "1.5.0",
            "value": " 170500096/? [00:20&lt;00:00, 98403518.86it/s]",
            "_view_count": null,
            "_view_module_version": "1.5.0",
            "description_tooltip": null,
            "_model_module": "@jupyter-widgets/controls",
            "layout": "IPY_MODEL_536eedde2acc40cfb69d4148a263d8d8"
          }
        },
        "190eb4542f8d4d1d8135d04dcf0d057c": {
          "model_module": "@jupyter-widgets/controls",
          "model_name": "ProgressStyleModel",
          "state": {
            "_view_name": "StyleView",
            "_model_name": "ProgressStyleModel",
            "description_width": "initial",
            "_view_module": "@jupyter-widgets/base",
            "_model_module_version": "1.5.0",
            "_view_count": null,
            "_view_module_version": "1.2.0",
            "bar_color": null,
            "_model_module": "@jupyter-widgets/controls"
          }
        },
        "9a76ee8e0ba34f9995cb711a4a3ab9ef": {
          "model_module": "@jupyter-widgets/base",
          "model_name": "LayoutModel",
          "state": {
            "_view_name": "LayoutView",
            "grid_template_rows": null,
            "right": null,
            "justify_content": null,
            "_view_module": "@jupyter-widgets/base",
            "overflow": null,
            "_model_module_version": "1.2.0",
            "_view_count": null,
            "flex_flow": null,
            "width": null,
            "min_width": null,
            "border": null,
            "align_items": null,
            "bottom": null,
            "_model_module": "@jupyter-widgets/base",
            "top": null,
            "grid_column": null,
            "overflow_y": null,
            "overflow_x": null,
            "grid_auto_flow": null,
            "grid_area": null,
            "grid_template_columns": null,
            "flex": null,
            "_model_name": "LayoutModel",
            "justify_items": null,
            "grid_row": null,
            "max_height": null,
            "align_content": null,
            "visibility": null,
            "align_self": null,
            "height": null,
            "min_height": null,
            "padding": null,
            "grid_auto_rows": null,
            "grid_gap": null,
            "max_width": null,
            "order": null,
            "_view_module_version": "1.2.0",
            "grid_template_areas": null,
            "object_position": null,
            "object_fit": null,
            "grid_auto_columns": null,
            "margin": null,
            "display": null,
            "left": null
          }
        },
        "f43878a99e2f474dbb6785e816c8e658": {
          "model_module": "@jupyter-widgets/controls",
          "model_name": "DescriptionStyleModel",
          "state": {
            "_view_name": "StyleView",
            "_model_name": "DescriptionStyleModel",
            "description_width": "",
            "_view_module": "@jupyter-widgets/base",
            "_model_module_version": "1.5.0",
            "_view_count": null,
            "_view_module_version": "1.2.0",
            "_model_module": "@jupyter-widgets/controls"
          }
        },
        "536eedde2acc40cfb69d4148a263d8d8": {
          "model_module": "@jupyter-widgets/base",
          "model_name": "LayoutModel",
          "state": {
            "_view_name": "LayoutView",
            "grid_template_rows": null,
            "right": null,
            "justify_content": null,
            "_view_module": "@jupyter-widgets/base",
            "overflow": null,
            "_model_module_version": "1.2.0",
            "_view_count": null,
            "flex_flow": null,
            "width": null,
            "min_width": null,
            "border": null,
            "align_items": null,
            "bottom": null,
            "_model_module": "@jupyter-widgets/base",
            "top": null,
            "grid_column": null,
            "overflow_y": null,
            "overflow_x": null,
            "grid_auto_flow": null,
            "grid_area": null,
            "grid_template_columns": null,
            "flex": null,
            "_model_name": "LayoutModel",
            "justify_items": null,
            "grid_row": null,
            "max_height": null,
            "align_content": null,
            "visibility": null,
            "align_self": null,
            "height": null,
            "min_height": null,
            "padding": null,
            "grid_auto_rows": null,
            "grid_gap": null,
            "max_width": null,
            "order": null,
            "_view_module_version": "1.2.0",
            "grid_template_areas": null,
            "object_position": null,
            "object_fit": null,
            "grid_auto_columns": null,
            "margin": null,
            "display": null,
            "left": null
          }
        }
      }
    }
  },
  "cells": [
    {
      "cell_type": "markdown",
      "metadata": {
        "id": "view-in-github",
        "colab_type": "text"
      },
      "source": [
        "<a href=\"https://colab.research.google.com/github/jayanaik9090/ML_programs/blob/master/level_beginners.ipynb\" target=\"_parent\"><img src=\"https://colab.research.google.com/assets/colab-badge.svg\" alt=\"Open In Colab\"/></a>"
      ]
    },
    {
      "cell_type": "markdown",
      "metadata": {
        "id": "kH-G0X3A4WcB"
      },
      "source": [
        "# Demonstration using PyTorch"
      ]
    },
    {
      "cell_type": "code",
      "metadata": {
        "id": "dIkbxeaF4WcC"
      },
      "source": [
        "import torch\n",
        "import torch.nn as nn\n",
        "import torch.nn.functional as F\n",
        "import torch.optim as optim\n",
        "from torch.utils.data import Dataset, DataLoader\n",
        "from torchvision.datasets import CIFAR10 # to download the CIFAR10 dataset\n",
        "import torchvision.transforms as transforms\n",
        "import tqdm\n",
        "import matplotlib.pyplot as plt\n",
        "import numpy as np\n",
        "from torchsummary import summary\n",
        "import torchvision"
      ],
      "execution_count": null,
      "outputs": []
    },
    {
      "cell_type": "code",
      "metadata": {
        "id": "FuYdwNIrJVBJ",
        "colab": {
          "base_uri": "https://localhost:8080/"
        },
        "outputId": "48580cb3-e9c7-4799-daee-a0fef1881c00"
      },
      "source": [
        "from google.colab import drive\n",
        "drive.mount('/content/drive')"
      ],
      "execution_count": null,
      "outputs": [
        {
          "output_type": "stream",
          "text": [
            "Mounted at /content/drive\n"
          ],
          "name": "stdout"
        }
      ]
    },
    {
      "cell_type": "markdown",
      "metadata": {
        "id": "EqUU16ch4WcF"
      },
      "source": [
        "### Computational Graph\n",
        "<img src=\"images/compute.png\" width=\"70%\">\n",
        "\n",
        "\\begin{align}\n",
        "\\dot{y} & = ((w0*x0+w1*x1)+w2) \\\\\n",
        "\\bar{y} & = \\frac{\\exp(\\dot{y}*-1)+1}{x}\n",
        "\\end{align}"
      ]
    },
    {
      "cell_type": "markdown",
      "metadata": {
        "id": "F6rhmQ_a4WcG"
      },
      "source": [
        "## 1. Dataset\n",
        "Prepare the dataset for the training and validation of the model"
      ]
    },
    {
      "cell_type": "code",
      "metadata": {
        "id": "NBnKuQ_A4WcG"
      },
      "source": [
        "transform = transforms.Compose([transforms.ToTensor(), transforms.Normalize((0.5,0.5,0.5),(0.5,0.5, 0.5))])"
      ],
      "execution_count": null,
      "outputs": []
    },
    {
      "cell_type": "code",
      "metadata": {
        "id": "Z1UkWWGD4WcI",
        "colab": {
          "base_uri": "https://localhost:8080/",
          "height": 99,
          "referenced_widgets": [
            "c4ff6bb006de4645a4c5d12a8b8ee862",
            "16aa39e8ca8240789c840df6f8d89941",
            "d6128192e2e74b78a51f5f6ec7ffa0cd",
            "3cf92a27ca2c44a3895908d2b9a19476",
            "190eb4542f8d4d1d8135d04dcf0d057c",
            "9a76ee8e0ba34f9995cb711a4a3ab9ef",
            "f43878a99e2f474dbb6785e816c8e658",
            "536eedde2acc40cfb69d4148a263d8d8"
          ]
        },
        "outputId": "2602a3db-3406-4d05-d772-b12de54317fa"
      },
      "source": [
        "\n",
        "batch_size = 8\n",
        "\n",
        "trainset = CIFAR10(root=\"./dataset\", transform=transform, train=True,download=True)\n",
        "testset = CIFAR10(root=\"./dataset\", transform=transform, train=False, download=True)\n",
        "trainloader = DataLoader(dataset=trainset, batch_size=batch_size, shuffle=True, num_workers=2)\n",
        "testloader = DataLoader(dataset=testset, batch_size=batch_size, shuffle=False, num_workers=1)\n",
        "\n",
        "train_dataset_size = len(trainloader)\n",
        "test_dataset_size = len(testloader)\n",
        "\n",
        "classes = ('plane', 'car', 'bird', 'cat',\n",
        "           'deer', 'dog', 'frog', 'horse', 'ship', 'truck')"
      ],
      "execution_count": null,
      "outputs": [
        {
          "output_type": "stream",
          "text": [
            "Downloading https://www.cs.toronto.edu/~kriz/cifar-10-python.tar.gz to ./dataset/cifar-10-python.tar.gz\n"
          ],
          "name": "stdout"
        },
        {
          "output_type": "display_data",
          "data": {
            "application/vnd.jupyter.widget-view+json": {
              "model_id": "c4ff6bb006de4645a4c5d12a8b8ee862",
              "version_minor": 0,
              "version_major": 2
            },
            "text/plain": [
              "HBox(children=(FloatProgress(value=1.0, bar_style='info', max=1.0), HTML(value='')))"
            ]
          },
          "metadata": {
            "tags": []
          }
        },
        {
          "output_type": "stream",
          "text": [
            "Extracting ./dataset/cifar-10-python.tar.gz to ./dataset\n",
            "Files already downloaded and verified\n"
          ],
          "name": "stdout"
        }
      ]
    },
    {
      "cell_type": "markdown",
      "metadata": {
        "id": "BE5NEIjd4WcL"
      },
      "source": [
        "## 2. Visualize the data"
      ]
    },
    {
      "cell_type": "code",
      "metadata": {
        "id": "Joq5plT-4WcL",
        "colab": {
          "base_uri": "https://localhost:8080/",
          "height": 112
        },
        "outputId": "c5f7afa9-e911-40c5-efa8-9ffa2e0700d9"
      },
      "source": [
        "# functions to show an image\n",
        "\n",
        "def imshow(img):\n",
        "    img = img / 2 + 0.5     # unnormalize\n",
        "    npimg = img.numpy()\n",
        "    plt.imshow(np.transpose(npimg, (1, 2, 0)))\n",
        "    plt.show()\n",
        "\n",
        "# get some random training images\n",
        "dataiter = iter(trainloader)\n",
        "images, labels = dataiter.next()\n",
        "\n",
        "# show images\n",
        "imshow(torchvision.utils.make_grid(images))\n",
        "# print labels\n",
        "print(' '.join('%5s' % classes[labels[j]] for j in range(batch_size)))"
      ],
      "execution_count": null,
      "outputs": [
        {
          "output_type": "display_data",
          "data": {
            "image/png": "[encoded data removed]",
            "text/plain": [
              "<Figure size 432x288 with 1 Axes>"
            ]
          },
          "metadata": {
            "tags": [],
            "needs_background": "light"
          }
        },
        {
          "output_type": "stream",
          "text": [
            "horse  ship horse   dog  deer  deer   cat  deer\n"
          ],
          "name": "stdout"
        }
      ]
    },
    {
      "cell_type": "markdown",
      "metadata": {
        "id": "eTkDYwrF4WcN"
      },
      "source": [
        "## 3. Define the model"
      ]
    },
    {
      "cell_type": "markdown",
      "metadata": {
        "id": "8W1iMSuD4WcO"
      },
      "source": [
        "##### Visualize the structure and the computational graph of the neural network (NN)\n",
        "The figure shows \n",
        "```\n",
        "Input Layer -> Hidden Layer 1 -> Hidden Layer 2 -> Hidden Layer 3 -> Output Layer \n",
        "```\n",
        "![](images/dense.png)\n",
        "\n",
        "##### Given the network arranged in the following sequence, define the neural network\n",
        "```\n",
        "fc(3072,1024*4) -> ReLU() -> fc(1024*4,1024) -> ReLU() -> fc(1024,1024) -> ReLU() -> fc(1024, 512) -> ReLU() -> fc(512, 128) -> ReLU() -> fc(128, 32) -> ReLU() -> fc(32, 10)\n",
        "```"
      ]
    },
    {
      "cell_type": "code",
      "metadata": {
        "id": "sxMzgqwb4WcO"
      },
      "source": [
        "# defining nn model\n",
        "class Model(nn.Module):\n",
        "    def __init__(self):\n",
        "        super(Model, self).__init__()\n",
        "        \n",
        "        #define the layers\n",
        "        self.fc1 = nn.Linear(3*32*32,1024*4)\n",
        "        self.fc2 = nn.Linear(1024*4, 1024)\n",
        "        self.fc3 = nn.Linear(1024, 1024)\n",
        "        self.fc4 = nn.Linear(1024, 512)\n",
        "        self.fc5 = nn.Linear(512, 128)\n",
        "        self.fc6 = nn.Linear(128, 32)\n",
        "        self.fc7 = nn.Linear(32, 10) # --> no. of class\n",
        "        \n",
        "        self.relu = nn.ReLU(inplace=True)\n",
        "\n",
        "    def forward(self, x): # create the computation graph\n",
        "        x = self.fc1(x)\n",
        "        x = self.relu(x)\n",
        "        x = self.fc2(x)\n",
        "        x = self.relu(x)\n",
        "        x = self.fc3(x)\n",
        "        x = self.relu(x)\n",
        "        x = self.fc4(x) \n",
        "        x = self.relu(x)\n",
        "        x = self.fc5(x)\n",
        "        x = self.relu(x)\n",
        "        x = self.fc6(x)\n",
        "        x = self.relu(x)\n",
        "        x = self.fc7(x)\n",
        "        \n",
        "        return x"
      ],
      "execution_count": null,
      "outputs": []
    },
    {
      "cell_type": "code",
      "metadata": {
        "id": "LMAUWXIG4WcR"
      },
      "source": [
        "net = Model().cuda()"
      ],
      "execution_count": null,
      "outputs": []
    },
    {
      "cell_type": "code",
      "metadata": {
        "id": "X-N-VbHd4WcT",
        "colab": {
          "base_uri": "https://localhost:8080/"
        },
        "outputId": "1f9634a6-bab2-4af8-bd68-3e06b2d6e865"
      },
      "source": [
        "summary(net, (1, 3*32*32))"
      ],
      "execution_count": null,
      "outputs": [
        {
          "output_type": "stream",
          "text": [
            "----------------------------------------------------------------\n",
            "        Layer (type)               Output Shape         Param #\n",
            "================================================================\n",
            "            Linear-1              [-1, 1, 4096]      12,587,008\n",
            "              ReLU-2              [-1, 1, 4096]               0\n",
            "            Linear-3              [-1, 1, 1024]       4,195,328\n",
            "              ReLU-4              [-1, 1, 1024]               0\n",
            "            Linear-5              [-1, 1, 1024]       1,049,600\n",
            "              ReLU-6              [-1, 1, 1024]               0\n",
            "            Linear-7               [-1, 1, 512]         524,800\n",
            "              ReLU-8               [-1, 1, 512]               0\n",
            "            Linear-9               [-1, 1, 128]          65,664\n",
            "             ReLU-10               [-1, 1, 128]               0\n",
            "           Linear-11                [-1, 1, 32]           4,128\n",
            "             ReLU-12                [-1, 1, 32]               0\n",
            "           Linear-13                [-1, 1, 10]             330\n",
            "================================================================\n",
            "Total params: 18,426,858\n",
            "Trainable params: 18,426,858\n",
            "Non-trainable params: 0\n",
            "----------------------------------------------------------------\n",
            "Input size (MB): 0.01\n",
            "Forward/backward pass size (MB): 0.10\n",
            "Params size (MB): 70.29\n",
            "Estimated Total Size (MB): 70.41\n",
            "----------------------------------------------------------------\n"
          ],
          "name": "stdout"
        }
      ]
    },
    {
      "cell_type": "markdown",
      "metadata": {
        "id": "KZUBNgIL4WcV"
      },
      "source": [
        "## 4. Define hyper-parameters and loss functions"
      ]
    },
    {
      "cell_type": "code",
      "metadata": {
        "id": "_6jpaIbi4WcW"
      },
      "source": [
        "optimizer = optim.SGD(net.parameters(),lr=0.001, momentum=0.9)\n",
        "criterion = nn.CrossEntropyLoss()\n",
        "\n",
        "epochs = 20"
      ],
      "execution_count": null,
      "outputs": []
    },
    {
      "cell_type": "markdown",
      "metadata": {
        "id": "brUdzlR14WcY"
      },
      "source": [
        "## 5. Train & Evaluate the model"
      ]
    },
    {
      "cell_type": "code",
      "metadata": {
        "id": "vv-XSg-44WcY"
      },
      "source": [
        "def train_validation_accuracy(train, val):\n",
        "    x=np.arange(epochs)\n",
        "    plt.figure(figsize=(10,10))\n",
        "    plt.title(\"Accuracy vs Epoch\")\n",
        "    plt.plot(x, train, label=\"Train Accuracy\")\n",
        "    plt.plot(x,val, label=\"Validation Accuracy\")\n",
        "    plt.legend()\n",
        "    plt.ylabel(\"Accuracy\")\n",
        "    plt.xlabel(\"Epoch\")\n",
        "    plt.show()\n",
        "    "
      ],
      "execution_count": null,
      "outputs": []
    },
    {
      "cell_type": "code",
      "metadata": {
        "id": "-2NBveSf4Wca",
        "colab": {
          "base_uri": "https://localhost:8080/"
        },
        "outputId": "df7c7d17-1478-4fb0-a990-5f6498be42f8"
      },
      "source": [
        "net.zero_grad()\n",
        "\n",
        "accuracy_train = []\n",
        "accuracy_val = []\n",
        "\n",
        "for each_epoch in range(epochs):\n",
        "    print(\"\\nEpoch {}\".format(each_epoch+1))\n",
        "    print(\"-\"*20)\n",
        "    running_losses = 0\n",
        "    running_corrects = 0\n",
        "    \n",
        "    for data, target in trainloader:\n",
        "        optimizer.zero_grad()\n",
        "        d,t = data.view(batch_size,-1).cuda(), target.cuda()\n",
        "        output = net(d)\n",
        "        loss = criterion(output,t)\n",
        "        \n",
        "        _,preds = torch.max(output,1)\n",
        "        \n",
        "        running_losses += loss.data.item()*data.size(0)\n",
        "        running_corrects += torch.sum(preds == t.data)/float(data.size(0))\n",
        "        \n",
        "        \n",
        "        loss.backward()\n",
        "        optimizer.step()\n",
        "    \n",
        "    epoch_loss = running_losses / train_dataset_size\n",
        "    epoch_acc = running_corrects / train_dataset_size\n",
        "    print('{} Loss: {:.4f} Acc: {:.4f}'.format(\"TRAIN\", epoch_loss, epoch_acc))\n",
        "    \n",
        "    accuracy_train.append(epoch_acc)\n",
        "    \n",
        "    val_losses = 0.0\n",
        "    val_corrects = 0.0\n",
        "    with torch.no_grad():\n",
        "        for data, target in testloader:\n",
        "            d, t = data.view(data.size(0),-1).cuda(), target.cuda()\n",
        "            output = net(d)\n",
        "            loss = criterion(output, t)\n",
        "            \n",
        "            _, preds = torch.max(output, 1)\n",
        "            val_losses += loss.data.item()*data.size(0)\n",
        "            val_corrects += torch.sum(preds == t.data)/float(data.size(0))\n",
        "            \n",
        "        val_epoch_loss = val_losses / test_dataset_size\n",
        "        val_epoch_acc = val_corrects / test_dataset_size\n",
        "        print('{} Loss: {:.4f} Acc: {:.4f}'.format(\"VAL\", val_epoch_loss, val_epoch_acc))\n",
        "        \n",
        "        accuracy_val.append(val_epoch_acc)\n",
        "    \n",
        "print(\"Finished\")\n",
        "\n",
        "train_validation_accuracy(np.array(accuracy_train), np.array(accuracy_val))"
      ],
      "execution_count": null,
      "outputs": [
        {
          "output_type": "stream",
          "text": [
            "\n",
            "Epoch 1\n",
            "--------------------\n",
            "TRAIN Loss: 17.8060 Acc: 0.1479\n",
            "VAL Loss: 15.7445 Acc: 0.2578\n",
            "\n",
            "Epoch 2\n",
            "--------------------\n",
            "TRAIN Loss: 14.1006 Acc: 0.3418\n",
            "VAL Loss: 12.6852 Acc: 0.4267\n",
            "\n",
            "Epoch 3\n",
            "--------------------\n",
            "TRAIN Loss: 12.0232 Acc: 0.4530\n",
            "VAL Loss: 11.4758 Acc: 0.4878\n",
            "\n",
            "Epoch 4\n",
            "--------------------\n",
            "TRAIN Loss: 10.9215 Acc: 0.5097\n",
            "VAL Loss: 11.1903 Acc: 0.5017\n",
            "\n",
            "Epoch 5\n",
            "--------------------\n",
            "TRAIN Loss: 10.0941 Acc: 0.5480\n",
            "VAL Loss: 11.0770 Acc: 0.5138\n",
            "\n",
            "Epoch 6\n",
            "--------------------\n",
            "TRAIN Loss: 9.3434 Acc: 0.5800\n",
            "VAL Loss: 11.0725 Acc: 0.5042\n",
            "\n",
            "Epoch 7\n",
            "--------------------\n",
            "TRAIN Loss: 8.6184 Acc: 0.6145\n",
            "VAL Loss: 11.1645 Acc: 0.5179\n",
            "\n",
            "Epoch 8\n",
            "--------------------\n",
            "TRAIN Loss: 7.9593 Acc: 0.6454\n",
            "VAL Loss: 10.4782 Acc: 0.5506\n",
            "\n",
            "Epoch 9\n",
            "--------------------\n",
            "TRAIN Loss: 7.2126 Acc: 0.6767\n",
            "VAL Loss: 10.8757 Acc: 0.5421\n",
            "\n",
            "Epoch 10\n",
            "--------------------\n",
            "TRAIN Loss: 6.5860 Acc: 0.7044\n",
            "VAL Loss: 11.3174 Acc: 0.5423\n",
            "\n",
            "Epoch 11\n",
            "--------------------\n",
            "TRAIN Loss: 5.9380 Acc: 0.7353\n",
            "VAL Loss: 11.3897 Acc: 0.5477\n",
            "\n",
            "Epoch 12\n",
            "--------------------\n",
            "TRAIN Loss: 5.3268 Acc: 0.7629\n",
            "VAL Loss: 12.5159 Acc: 0.5347\n",
            "\n",
            "Epoch 13\n",
            "--------------------\n",
            "TRAIN Loss: 4.7577 Acc: 0.7884\n",
            "VAL Loss: 12.6221 Acc: 0.5478\n",
            "\n",
            "Epoch 14\n",
            "--------------------\n",
            "TRAIN Loss: 4.2972 Acc: 0.8080\n",
            "VAL Loss: 13.3213 Acc: 0.5532\n",
            "\n",
            "Epoch 15\n",
            "--------------------\n",
            "TRAIN Loss: 3.7851 Acc: 0.8305\n",
            "VAL Loss: 13.5845 Acc: 0.5487\n",
            "\n",
            "Epoch 16\n",
            "--------------------\n",
            "TRAIN Loss: 3.3606 Acc: 0.8499\n",
            "VAL Loss: 13.9926 Acc: 0.5518\n",
            "\n",
            "Epoch 17\n",
            "--------------------\n",
            "TRAIN Loss: 2.9681 Acc: 0.8693\n",
            "VAL Loss: 15.1970 Acc: 0.5468\n",
            "\n",
            "Epoch 18\n",
            "--------------------\n",
            "TRAIN Loss: 2.6752 Acc: 0.8802\n",
            "VAL Loss: 15.8361 Acc: 0.5517\n",
            "\n",
            "Epoch 19\n",
            "--------------------\n",
            "TRAIN Loss: 2.3647 Acc: 0.8977\n",
            "VAL Loss: 17.5250 Acc: 0.5450\n",
            "\n",
            "Epoch 20\n",
            "--------------------\n",
            "TRAIN Loss: 2.1335 Acc: 0.9057\n",
            "VAL Loss: 16.8429 Acc: 0.5503\n",
            "Finished\n"
          ],
          "name": "stdout"
        },
        {
          "output_type": "display_data",
          "data": {
            "image/png": "[encoded data removed]",
            "text/plain": [
              "<Figure size 720x720 with 1 Axes>"
            ]
          },
          "metadata": {
            "tags": [],
            "needs_background": "light"
          }
        }
      ]
    },
    {
      "cell_type": "code",
      "metadata": {
        "id": "7yB7ZzhY4Wcc"
      },
      "source": [
        ""
      ],
      "execution_count": null,
      "outputs": []
    }
  ]
}