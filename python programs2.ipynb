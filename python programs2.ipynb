{
 "cells": [
  {
   "cell_type": "markdown",
   "metadata": {},
   "source": [
    "# 1. Write a Python program to count the occurrences of each word in a given sentence."
   ]
  },
  {
   "cell_type": "code",
   "execution_count": 11,
   "metadata": {},
   "outputs": [
    {
     "name": "stdout",
     "output_type": "stream",
     "text": [
      "Enter the string: the light is great in the great hall\n",
      "{'the': 2, 'light': 1, 'is': 1, 'great': 2, 'in': 1, 'hall': 1}\n"
     ]
    }
   ],
   "source": [
    "str = input(\"Enter the string: \")\n",
    "words = str.split()\n",
    "c=dict()\n",
    "for x in words:\n",
    "    if x in c:\n",
    "        c[x]+=1\n",
    "    else:\n",
    "        c[x]=1\n",
    "print(c)"
   ]
  },
  {
   "cell_type": "markdown",
   "metadata": {},
   "source": [
    "# 2. Write a Python program to remove duplicates from a list."
   ]
  },
  {
   "cell_type": "code",
   "execution_count": 10,
   "metadata": {},
   "outputs": [
    {
     "name": "stdout",
     "output_type": "stream",
     "text": [
      "Enter the length of list:5\n",
      "Enter list of 5 elements:\n",
      "1\n",
      "3\n",
      "4\n",
      "3\n",
      "4\n",
      "original list: [1, 3, 4, 3, 4]\n",
      "list without dulicate: [1, 3, 4]\n"
     ]
    }
   ],
   "source": [
    "n = int(input(\"Enter the length of list:\"))\n",
    "l1=[]\n",
    "l2=[]\n",
    "print(\"Enter list of\",n,\"elements:\")\n",
    "for i in range(n):\n",
    "    l=int(input())\n",
    "    l1.append(l)\n",
    "for i in l1:\n",
    "    if i not in l2:\n",
    "        l2.append(i)\n",
    "print(\"original list:\",l1)   \n",
    "print(\"list without dulicate:\",l2)  "
   ]
  },
  {
   "cell_type": "markdown",
   "metadata": {},
   "source": [
    "# 3. Write a Python program to count the number of elements in a list within a specified range."
   ]
  },
  {
   "cell_type": "code",
   "execution_count": 16,
   "metadata": {},
   "outputs": [
    {
     "name": "stdout",
     "output_type": "stream",
     "text": [
      "Enter the length of list:5\n",
      "Enter list of 5 elements:\n",
      "2\n",
      "5\n",
      "ghghg\n",
      "7\n",
      "adkh\n",
      "Enter the range:2 4\n",
      "there are 3 elements in the specified range\n"
     ]
    }
   ],
   "source": [
    "n = int(input(\"Enter the length of list:\"))\n",
    "l=[]\n",
    "c=0\n",
    "print(\"Enter list of\",n,\"elements:\")\n",
    "for i in range(n):\n",
    "    x=input()\n",
    "    l.append(x)\n",
    "r1,r2 = [ int(x) for x in input(\"Enter the range:\").split()]\n",
    "for i in l[r1:r2+1]:\n",
    "    c+=1\n",
    "print(\"there are\",c,\"elements in the specified range\")"
   ]
  },
  {
   "cell_type": "markdown",
   "metadata": {},
   "source": [
    "# 4. Write a Python script to merge two Python dictionaries"
   ]
  },
  {
   "cell_type": "code",
   "execution_count": 28,
   "metadata": {},
   "outputs": [
    {
     "name": "stdout",
     "output_type": "stream",
     "text": [
      "dictionary 1: {'a': 25, 'b': 22}\n",
      "dictionary 2: {'x': 947, 'y': 637}\n",
      "merged dictionary {'a': 25, 'b': 22, 'x': 947, 'y': 637}\n"
     ]
    }
   ],
   "source": [
    "d1 = {'a': 25, 'b': 22}\n",
    "d2 = {'x': 947, 'y': 637}\n",
    "d = d1.copy()\n",
    "d.update(d2)\n",
    "print(\"dictionary 1:\",d1)\n",
    "print(\"dictionary 2:\",d2)\n",
    "print(\"merged dictionary\",d)"
   ]
  },
  {
   "cell_type": "markdown",
   "metadata": {},
   "source": [
    "# 5. Write a Python program to find the highest 3 values in a dictionary."
   ]
  },
  {
   "cell_type": "code",
   "execution_count": 24,
   "metadata": {},
   "outputs": [
    {
     "name": "stdout",
     "output_type": "stream",
     "text": [
      "Highest 3 values in the dictionary:\n",
      "D  : 16  \n",
      "F  : 14  \n",
      "B  : 12  \n"
     ]
    }
   ],
   "source": [
    "from collections import Counter \n",
    "d = {'A': 7, 'B': 12, 'C': 9 ,'D': 16, 'E': 2, 'F': 14} \n",
    "k = Counter(d) \n",
    "highest = k.most_common(3) \n",
    "print(\"Highest 3 values in the dictionary:\") \n",
    "for i in highest: \n",
    "    print(i[0],\" :\",i[1],\" \") \n"
   ]
  },
  {
   "cell_type": "markdown",
   "metadata": {},
   "source": [
    "# 6. Write a Python program to convert a tuple to a string."
   ]
  },
  {
   "cell_type": "code",
   "execution_count": 22,
   "metadata": {},
   "outputs": [
    {
     "name": "stdout",
     "output_type": "stream",
     "text": [
      "tuple: ('a', 'p', 'p', 'l', 'e')\n",
      "string: apple\n"
     ]
    }
   ],
   "source": [
    "t = ('a', 'p', 'p', 'l', 'e') \n",
    "str =''.join(t)\n",
    "print(\"tuple:\",t)\n",
    "print(\"string:\",str) \n"
   ]
  },
  {
   "cell_type": "markdown",
   "metadata": {},
   "source": [
    "# 7. Write a Python program to reverse a tuple."
   ]
  },
  {
   "cell_type": "code",
   "execution_count": 48,
   "metadata": {},
   "outputs": [
    {
     "name": "stdout",
     "output_type": "stream",
     "text": [
      "(6, 5, 4, 3, 2, 1)\n"
     ]
    }
   ],
   "source": [
    "t1 = (1,2,3,4,5,6) \n",
    "t2 = t1[::-1]\n",
    "print(t2)"
   ]
  },
  {
   "cell_type": "markdown",
   "metadata": {},
   "source": [
    "# 8. Write a Python program to remove existing indentation from all of the lines in a given text."
   ]
  },
  {
   "cell_type": "code",
   "execution_count": 43,
   "metadata": {},
   "outputs": [
    {
     "name": "stdout",
     "output_type": "stream",
     "text": [
      "text is:\n",
      "    And then the day came,\n",
      "    when the risk\n",
      "    to remain tight\n",
      "    in a bud\n",
      "    was more painful\n",
      "    than the risk\n",
      "    it took\n",
      "    to blossom.\n",
      "\n",
      "text without indentation:\n",
      " And then the day came,\n",
      " when the risk\n",
      " to remain tight\n",
      " in a bud\n",
      " was more painful\n",
      " than the risk\n",
      " it took\n",
      " to blossom.\n"
     ]
    }
   ],
   "source": [
    "import textwrap  \n",
    "text = '''   And then the day came,\n",
    "    when the risk\n",
    "    to remain tight\n",
    "    in a bud\n",
    "    was more painful\n",
    "    than the risk\n",
    "    it took\n",
    "    to blossom.'''  \n",
    "t2 = textwrap.dedent(text)  \n",
    "print(\"text is:\\n\",text)  \n",
    "print(\"\\ntext without indentation:\\n\",t2)"
   ]
  }
 ],
 "metadata": {
  "kernelspec": {
   "display_name": "Python 3",
   "language": "python",
   "name": "python3"
  },
  "language_info": {
   "codemirror_mode": {
    "name": "ipython",
    "version": 3
   },
   "file_extension": ".py",
   "mimetype": "text/x-python",
   "name": "python",
   "nbconvert_exporter": "python",
   "pygments_lexer": "ipython3",
   "version": "3.7.6"
  }
 },
 "nbformat": 4,
 "nbformat_minor": 4
}
